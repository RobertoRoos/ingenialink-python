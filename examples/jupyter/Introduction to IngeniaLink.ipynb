{
 "cells": [
  {
   "cell_type": "markdown",
   "metadata": {},
   "source": [
    "<img style=\"float: left;\" src=\"http://ingeniamc.com/bundles/main/img/ingenia_header_logo.svg\"/>"
   ]
  },
  {
   "cell_type": "markdown",
   "metadata": {},
   "source": [
    "# Introduction\n",
    "\n",
    "If you are reading this document you probably have already installed `ingenialink`. If not, make sure to have Python installed (3.x recommended), and then simply open a terminal and type:\n",
    "\n",
    "```sh\n",
    "pip install ingenialink\n",
    "```\n",
    "\n",
    "Note that in some operating systems you may need to install first [some dependencies](https://github.com/ingeniamc/ingenialink-python).\n",
    "\n",
    "In order to use `ingenialink` you will first need to import it like this:"
   ]
  },
  {
   "cell_type": "code",
   "execution_count": 1,
   "metadata": {},
   "outputs": [],
   "source": [
    "import ingenialink as il"
   ]
  },
  {
   "cell_type": "markdown",
   "metadata": {},
   "source": [
    "Furthermore, if you need to read some registers or use pre-defined constants, you may also want to import the `const` and `regs` modules."
   ]
  },
  {
   "cell_type": "code",
   "execution_count": 2,
   "metadata": {},
   "outputs": [],
   "source": [
    "from ingenialink import const, regs"
   ]
  },
  {
   "cell_type": "markdown",
   "metadata": {},
   "source": [
    "Note that not all the available registers are defined."
   ]
  },
  {
   "cell_type": "markdown",
   "metadata": {},
   "source": [
    "Finally in this notebook we will also plot some servo drive variables using `matplotlib`:"
   ]
  },
  {
   "cell_type": "code",
   "execution_count": 3,
   "metadata": {},
   "outputs": [],
   "source": [
    "import matplotlib.pyplot as plt\n",
    "%matplotlib inline"
   ]
  },
  {
   "cell_type": "markdown",
   "metadata": {},
   "source": [
    "# Network and servo drives\n",
    "\n",
    "The first step when using `ingenialink` is to setup the network and then look for attached servo drives. The network can be seen as the information transport medium from where servo drives hang. In most cases, you will connect the servo drive via USB, so in this case the servo drive provides the network itself.\n",
    "\n",
    "Ingenia servo drives show up as serial ports, so the network candidate devices are simply all the available serial ports. You can obtain the available ones like this:"
   ]
  },
  {
   "cell_type": "code",
   "execution_count": 4,
   "metadata": {},
   "outputs": [
    {
     "data": {
      "text/plain": [
       "['/dev/ttyACM0',\n",
       " '/dev/ttyS0',\n",
       " '/dev/ttyS1',\n",
       " '/dev/ttyS10',\n",
       " '/dev/ttyS11',\n",
       " '/dev/ttyS12',\n",
       " '/dev/ttyS13',\n",
       " '/dev/ttyS14',\n",
       " '/dev/ttyS15',\n",
       " '/dev/ttyS16',\n",
       " '/dev/ttyS17',\n",
       " '/dev/ttyS18',\n",
       " '/dev/ttyS19',\n",
       " '/dev/ttyS2',\n",
       " '/dev/ttyS20',\n",
       " '/dev/ttyS21',\n",
       " '/dev/ttyS22',\n",
       " '/dev/ttyS23',\n",
       " '/dev/ttyS24',\n",
       " '/dev/ttyS25',\n",
       " '/dev/ttyS26',\n",
       " '/dev/ttyS27',\n",
       " '/dev/ttyS28',\n",
       " '/dev/ttyS29',\n",
       " '/dev/ttyS3',\n",
       " '/dev/ttyS30',\n",
       " '/dev/ttyS31',\n",
       " '/dev/ttyS4',\n",
       " '/dev/ttyS5',\n",
       " '/dev/ttyS6',\n",
       " '/dev/ttyS7',\n",
       " '/dev/ttyS8',\n",
       " '/dev/ttyS9']"
      ]
     },
     "execution_count": 4,
     "metadata": {},
     "output_type": "execute_result"
    }
   ],
   "source": [
    "il.devices()"
   ]
  },
  {
   "cell_type": "markdown",
   "metadata": {},
   "source": [
    "Once you know which one it is, simply create a network object:"
   ]
  },
  {
   "cell_type": "code",
   "execution_count": 5,
   "metadata": {},
   "outputs": [],
   "source": [
    "net = il.Network('/dev/ttyACM0')"
   ]
  },
  {
   "cell_type": "markdown",
   "metadata": {},
   "source": [
    "Then you can perform a network scan to look for attached servo drives. In this example we will simply pick the first available:"
   ]
  },
  {
   "cell_type": "code",
   "execution_count": 6,
   "metadata": {},
   "outputs": [
    {
     "name": "stdout",
     "output_type": "stream",
     "text": [
      "Will use servo with id: 32\n"
     ]
    }
   ],
   "source": [
    "servo_ids = net.servos()\n",
    "first_id = servo_ids[0]\n",
    "\n",
    "print('Will use servo with id: {}'.format(first_id))"
   ]
  },
  {
   "cell_type": "markdown",
   "metadata": {},
   "source": [
    "Next step is to create the servo object. It needs to know the network you want to use and the servo id:"
   ]
  },
  {
   "cell_type": "code",
   "execution_count": 7,
   "metadata": {},
   "outputs": [],
   "source": [
    "servo = il.Servo(net, first_id)"
   ]
  },
  {
   "cell_type": "markdown",
   "metadata": {},
   "source": [
    "You can quickly obtain some servo drive information like this:"
   ]
  },
  {
   "cell_type": "code",
   "execution_count": 8,
   "metadata": {},
   "outputs": [
    {
     "data": {
      "text/plain": [
       "{'hw_variant': 'VGD0',\n",
       " 'name': 'My Drive',\n",
       " 'prod_code': 33,\n",
       " 'revision': 299,\n",
       " 'serial': 16793600,\n",
       " 'sw_version': '2.5.2'}"
      ]
     },
     "execution_count": 8,
     "metadata": {},
     "output_type": "execute_result"
    }
   ],
   "source": [
    "servo.info"
   ]
  },
  {
   "cell_type": "markdown",
   "metadata": {},
   "source": [
    "# Accessing registers\n",
    "\n",
    "Ingenia's servo drives have hundreds of registers you can read/write from/to. Many of the available registers are defined in `ingenialink.regs`. However, note that not all servo drives have the same registers (see their object dictionary for more details). IngeniaLink provides abstraction for most common operations, so you will not use registers directly in most applications. However in some cases, specially if configuring servo drive properties, you will likely use them.\n",
    "\n",
    "You can read registers by using `read` and `raw_read` `Servo` functions. The first will take care of unit conversions if this applied to the requested register. Units are detailed in the next section. Similarly, for write you have `write` and `raw_write`."
   ]
  },
  {
   "cell_type": "code",
   "execution_count": 9,
   "metadata": {},
   "outputs": [
    {
     "name": "stdout",
     "output_type": "stream",
     "text": [
      "1000.0\n",
      "0\n"
     ]
    }
   ],
   "source": [
    "print(servo.read(regs.TORQUE_MAX))\n",
    "print(servo.raw_read(regs.FB_POS_SENSOR))\n",
    "\n",
    "servo.write(regs.VEL_TGT, 1000)\n",
    "servo.raw_write(regs.CTL_WORD, 0x06)"
   ]
  },
  {
   "cell_type": "markdown",
   "metadata": {},
   "source": [
    "You can also define registers on-the-go like this:"
   ]
  },
  {
   "cell_type": "code",
   "execution_count": 10,
   "metadata": {},
   "outputs": [],
   "source": [
    "CTL_WORD = il.Register(0x6040, 0x00, il.DTYPE_U16, il.ACCESS_RW, il.PHY_NONE)"
   ]
  },
  {
   "cell_type": "markdown",
   "metadata": {},
   "source": [
    "# Motion control\n",
    "\n",
    "We all know you were waiting for this section! If you have a servo drive is to perform some kind of motion control! It is important to know at this point that **your servo drive needs to be properly tuned and configured**. This can be done using our configuration tool [MotionLab](http://ingeniamc.com/software).\n",
    "\n",
    "## Operation mode\n",
    "\n",
    "Ingenia servo drives can work in multiple operation modes: profile/cyclic position, profile/cycling velocity, homing, etc. Detailed information about all the available modes can be found [here](http://doc.ingeniamc.com/display/EMCL/Modes+of+operation). If you want to control position, you will likely use the profile position. When using the profile modes velocity and acceleration of your movements are controlled by a trapezoidal profiler. In cyclic modes the profiler needs to be implemented by yourself. While it gives more flexibility, it is a non-trivial task. In this notebook, only profile modes will be demonstrated.\n",
    "\n",
    "The operation mode can be set like this:"
   ]
  },
  {
   "cell_type": "code",
   "execution_count": 11,
   "metadata": {},
   "outputs": [],
   "source": [
    "# set the operation mode to profile position\n",
    "servo.mode = il.MODE_PP"
   ]
  },
  {
   "cell_type": "markdown",
   "metadata": {},
   "source": [
    "## Operation units\n",
    "\n",
    "Ingenia servo drives operate internally using native units, that is, units relative to the available feedbacks. This means that the position is given in counts, velocity in counts per second, and so on. `ingenialink` offers the possibility to work using physical units, for example, in revolutions, degrees, rpm, etc. You can currently set the operating units of position, velocity, torque and acceleration."
   ]
  },
  {
   "cell_type": "code",
   "execution_count": 12,
   "metadata": {},
   "outputs": [],
   "source": [
    "# we want to work in degrees and RPM\n",
    "servo.units_pos = il.UNITS_POS_DEG\n",
    "servo.units_vel = il.UNITS_VEL_RPM"
   ]
  },
  {
   "cell_type": "markdown",
   "metadata": {},
   "source": [
    "## Enabling and disabling the power stage\n",
    "\n",
    "Once you have your mode selected, you can proceed to enable the power stage of the servo drive. Unless the power is enabled, no actions can be performed."
   ]
  },
  {
   "cell_type": "code",
   "execution_count": 13,
   "metadata": {},
   "outputs": [],
   "source": [
    "# enable power stage\n",
    "servo.enable(timeout=2000)\n",
    "\n",
    "# disable power stage\n",
    "servo.disable()"
   ]
  },
  {
   "cell_type": "markdown",
   "metadata": {},
   "source": [
    "## Homing\n",
    "\n",
    "If working in position mode, unless you have an absolute reference sensor you will need to perform a homing every time you turn the system on so that the servo drives *knows where it is*. Multiple homing modes are available (see MotionLab). In order to perform a homing, you will simply need to set the homing mode, enable the motor and then trigger the homing operation as shown below."
   ]
  },
  {
   "cell_type": "code",
   "execution_count": 14,
   "metadata": {},
   "outputs": [],
   "source": [
    "servo.mode = il.MODE_HOMING\n",
    "servo.enable()\n",
    "servo.homing_start()\n",
    "servo.homing_wait(timeout=5000)\n",
    "servo.disable()"
   ]
  },
  {
   "cell_type": "markdown",
   "metadata": {},
   "source": [
    "## Position control\n",
    "\n",
    "Servo position can be easily controlled as shown in the code below. Note that the system tolerances will need to be properly set to use the `wait_reached`."
   ]
  },
  {
   "cell_type": "code",
   "execution_count": 15,
   "metadata": {},
   "outputs": [
    {
     "name": "stdout",
     "output_type": "stream",
     "text": [
      "Current position is: -1.32 deg\n",
      "Moving to 180 deg...\n",
      "New position is: 177.01 deg\n"
     ]
    }
   ],
   "source": [
    "servo.mode = il.MODE_PP\n",
    "\n",
    "print('Current position is: {:.2f} deg'.format(servo.position))\n",
    "\n",
    "print('Moving to 180 deg...')\n",
    "servo.enable()\n",
    "servo.position = 180.\n",
    "servo.wait_reached(timeout=1000)\n",
    "\n",
    "print('New position is: {:.2f} deg'.format(servo.position))\n",
    "\n",
    "servo.disable()"
   ]
  },
  {
   "cell_type": "markdown",
   "metadata": {},
   "source": [
    "## Velocity control\n",
    "\n",
    "Servo velocity can be easily controlle as shown in the code below:"
   ]
  },
  {
   "cell_type": "code",
   "execution_count": 16,
   "metadata": {},
   "outputs": [
    {
     "name": "stdout",
     "output_type": "stream",
     "text": [
      "Current velocity is: 0.00 rpm\n",
      "Setting velocity to 2000 rpm...\n",
      "Current velocity is: 1981.93 rpm\n"
     ]
    }
   ],
   "source": [
    "servo.mode = il.MODE_PV\n",
    "\n",
    "print('Current velocity is: {:.2f} rpm'.format(servo.velocity))\n",
    "\n",
    "print('Setting velocity to 2000 rpm...')\n",
    "servo.enable()\n",
    "servo.velocity = 2000.\n",
    "servo.wait_reached(timeout=3000)\n",
    "\n",
    "print('Current velocity is: {:.2f} rpm'.format(servo.velocity))\n",
    "\n",
    "servo.disable()"
   ]
  },
  {
   "cell_type": "markdown",
   "metadata": {},
   "source": [
    "# Observing servo drive parameters\n",
    "\n",
    "It is always useful to obtain plots of servo operation variables. For this purpose we have to mechanisms: polling and monitoring. Below they are detailed together with some examples.\n",
    "\n",
    "## Polling\n",
    "\n",
    "What polling does, as its name suggests, is to poll for certain registers continuously from the PC. Usually polling is used for real-time plotting or when high-accuracy is not required. When using polling, you can roughly sample one register at 500 samples/s continuously (decreasing as more registers are polled). Below a sequence of position movements is polled."
   ]
  },
  {
   "cell_type": "code",
   "execution_count": 17,
   "metadata": {},
   "outputs": [
    {
     "data": {
      "image/png": "[encoded data removed]",
      "text/plain": [
       "<matplotlib.figure.Figure at 0x7ff9330933c8>"
      ]
     },
     "metadata": {},
     "output_type": "display_data"
    }
   ],
   "source": [
    "# create a poller and configure it \n",
    "poller = il.Poller(servo, n_ch=2)\n",
    "\n",
    "# set sample period of 5 ms and buffer of 2k samples\n",
    "poller.configure(t_s=5, sz=2000)\n",
    "# configure channels to poll position and velocity\n",
    "poller.ch_configure(ch=0, reg=regs.POS_ACT)\n",
    "poller.ch_configure(ch=1, reg=regs.VEL_ACT)\n",
    "\n",
    "# perform homing\n",
    "servo.mode = il.MODE_HOMING\n",
    "servo.enable()\n",
    "servo.homing_start()\n",
    "servo.homing_wait(timeout=5000)\n",
    "servo.disable()\n",
    "\n",
    "# perform movements\n",
    "servo.mode = il.MODE_PP\n",
    "servo.enable()\n",
    "poller.start()\n",
    "\n",
    "positions = [0, 90, 180, 90, 0]\n",
    "for position in positions:\n",
    "    servo.position = position\n",
    "    servo.wait_reached(timeout=1000)\n",
    "\n",
    "servo.disable()\n",
    "poller.stop()\n",
    "\n",
    "# obtain results\n",
    "t, d, lost = poller.data\n",
    "if lost:\n",
    "    print('Data was lost! Increase buffer size or sample time!')\n",
    "\n",
    "# plot results\n",
    "plt.figure()\n",
    "plt.subplot(211)\n",
    "plt.plot(t, d[0])\n",
    "plt.xlabel('Time (s)')\n",
    "plt.ylabel('Position (deg)')\n",
    "\n",
    "plt.subplot(212)\n",
    "plt.plot(t, d[1])\n",
    "plt.xlabel('Time (s)')\n",
    "plt.ylabel('Velocity (rpm)')\n",
    "\n",
    "plt.show()"
   ]
  },
  {
   "cell_type": "markdown",
   "metadata": {},
   "source": [
    "## Monitoring\n",
    "\n",
    "Monitoring is done on the servo drive side and allows to sample up to 10000 samples/s but, it is single shot, the number of samples is limited and supports up to 4 channels. Furthermore, monitoring offers trigger capabilities. For more details about monitoring capabilities, see this [page](http://doc.ingeniamc.com/display/EMCL/Monitoring). Below you can find an example that captures the rising curve of velocity. This may be useful, for example, to see if the system is properly tuned."
   ]
  },
  {
   "cell_type": "code",
   "execution_count": 19,
   "metadata": {},
   "outputs": [
    {
     "data": {
      "image/png": "[encoded data removed]",
      "text/plain": [
       "<matplotlib.figure.Figure at 0x7ff930756cf8>"
      ]
     },
     "metadata": {},
     "output_type": "display_data"
    }
   ],
   "source": [
    "# target velocity (rpm)\n",
    "VEL_TGT = 2000\n",
    "\n",
    "# create monitor and configure it\n",
    "monitor = il.Monitor(servo)\n",
    "\n",
    "# set sample period to 1 ms, maximum of 200 samples\n",
    "monitor.configure(t_s=1000, max_samples=200)\n",
    "# monitor velocity\n",
    "monitor.ch_configure(ch=0, reg=regs.VEL_ACT)\n",
    "# configure trigger to 90% of the target velocity\n",
    "monitor.trigger_configure(il.MONITOR_TRIGGER_POS, source=regs.VEL_ACT,\n",
    "                          th_pos=VEL_TGT * 0.9)\n",
    "\n",
    "# enable servo\n",
    "servo.mode = il.MODE_PV\n",
    "servo.enable()\n",
    "monitor.start()\n",
    "\n",
    "servo.velocity = VEL_TGT\n",
    "\n",
    "monitor.wait(timeout=3000)\n",
    "servo.disable()\n",
    "\n",
    "# plot results\n",
    "t, d = monitor.data\n",
    "\n",
    "plt.plot(t, d[0])\n",
    "plt.xlabel('Time (s)')\n",
    "plt.ylabel('Velocity (rpm)')\n",
    "plt.ylim([1800, 2050])\n",
    "plt.show()"
   ]
  },
  {
   "cell_type": "code",
   "execution_count": null,
   "metadata": {},
   "outputs": [],
   "source": []
  }
 ],
 "metadata": {
  "kernelspec": {
   "display_name": "Python 3",
   "language": "python",
   "name": "python3"
  },
  "language_info": {
   "codemirror_mode": {
    "name": "ipython",
    "version": 3
   },
   "file_extension": ".py",
   "mimetype": "text/x-python",
   "name": "python",
   "nbconvert_exporter": "python",
   "pygments_lexer": "ipython3",
   "version": "3.6.3"
  }
 },
 "nbformat": 4,
 "nbformat_minor": 2
}
